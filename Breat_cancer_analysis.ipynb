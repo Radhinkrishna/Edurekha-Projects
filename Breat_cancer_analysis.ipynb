{
  "nbformat": 4,
  "nbformat_minor": 0,
  "metadata": {
    "colab": {
      "provenance": []
    },
    "kernelspec": {
      "name": "python3",
      "display_name": "Python 3"
    },
    "language_info": {
      "name": "python"
    }
  },
  "cells": [
    {
      "cell_type": "markdown",
      "source": [
        "**problem1**"
      ],
      "metadata": {
        "id": "7zOc1C7Y_KLD"
      }
    },
    {
      "cell_type": "code",
      "source": [
        "# Import necessary libraries\n",
        "import pandas as pd\n",
        "from sklearn.model_selection import train_test_split\n",
        "from sklearn.preprocessing import LabelEncoder\n",
        "from sklearn.linear_model import LogisticRegression\n",
        "from sklearn.naive_bayes import GaussianNB\n",
        "from sklearn.tree import DecisionTreeClassifier\n",
        "from sklearn.neighbors import KNeighborsClassifier\n",
        "from sklearn.svm import SVC\n",
        "from sklearn.ensemble import RandomForestClassifier\n",
        "from sklearn.metrics import confusion_matrix\n",
        "import seaborn as sns\n",
        "\n",
        "# Load the dataset\n",
        "df = pd.read_csv('Breast_Cancer_Dataset.csv')\n",
        "\n",
        "# Remove null rows and columns\n",
        "df = df.dropna()\n",
        "\n",
        "# Encode the 'diagnosis' column\n",
        "le = LabelEncoder()\n",
        "df['diagnosis'] = le.fit_transform(df['diagnosis'])\n",
        "\n",
        "# Separate target variable and feature vectors\n",
        "X = df.drop('diagnosis', axis=1)\n",
        "y = df['diagnosis']\n",
        "\n",
        "# Split the dataset into training set and test set\n",
        "X_train, X_test, y_train, y_test = train_test_split(X, y, test_size=0.3, random_state=42)\n",
        "\n",
        "# Declare the algorithms in a list\n",
        "algorithms = [LogisticRegression(), GaussianNB(), DecisionTreeClassifier(), KNeighborsClassifier(), SVC(), RandomForestClassifier()]\n",
        "\n",
        "# Iterate through algorithms to build models and calculate accuracies\n",
        "for algorithm in algorithms:\n",
        "    model = algorithm.fit(X_train, y_train)\n",
        "    y_pred = model.predict(X_test)\n",
        "    print(f\"Accuracy of {algorithm.__class__.__name__}: {model.score(X_test, y_test)}\")\n",
        "\n",
        "    # Calculate and plot the confusion matrix\n",
        "    cm = confusion_matrix(y_test, y_pred)\n",
        "    sns.heatmap(cm, annot=True)\n"
      ],
      "metadata": {
        "id": "te2Y13XI_J3w"
      },
      "execution_count": null,
      "outputs": []
    },
    {
      "cell_type": "markdown",
      "source": [
        "**problem2**"
      ],
      "metadata": {
        "id": "_D71yWU-798E"
      }
    },
    {
      "cell_type": "code",
      "source": [
        "# Import necessary libraries\n",
        "import pandas as pd\n",
        "from sklearn.model_selection import train_test_split\n",
        "from sklearn.preprocessing import LabelEncoder\n",
        "from sklearn.linear_model import LogisticRegression\n",
        "from sklearn.naive_bayes import GaussianNB\n",
        "from sklearn.tree import DecisionTreeClassifier\n",
        "from sklearn.neighbors import KNeighborsClassifier\n",
        "from sklearn.svm import SVC\n",
        "from sklearn.ensemble import RandomForestClassifier\n",
        "from sklearn.metrics import roc_auc_score, f1_score, classification_report\n",
        "import matplotlib.pyplot as plt\n",
        "\n",
        "# Load the dataset\n",
        "df = pd.read_csv('/content/Breast_Cancer_Dataset.csv')\n",
        "\n",
        "# Remove null rows and columns\n",
        "df = df.dropna()\n",
        "\n",
        "# Encode the 'diagnosis' column\n",
        "le = LabelEncoder()\n",
        "df['diagnosis'] = le.fit_transform(df['diagnosis'])\n",
        "\n",
        "# Separate target variable and feature vectors\n",
        "X = df.drop('diagnosis', axis=1)\n",
        "y = df['diagnosis']\n",
        "\n",
        "# Split the dataset into training set and test set\n",
        "X_train, X_test, y_train, y_test = train_test_split(X, y, test_size=0.3, random_state=42)\n",
        "\n",
        "# Declare the algorithms in a list\n",
        "algorithms = [LogisticRegression(), GaussianNB(), DecisionTreeClassifier(), KNeighborsClassifier(), SVC(), RandomForestClassifier()]\n",
        "\n",
        "# Iterate through algorithms to build models and calculate accuracies\n",
        "for algorithm in algorithms:\n",
        "    model = algorithm.fit(X_train, y_train)\n",
        "    y_pred = model.predict(X_test)\n",
        "    print(f\"Accuracy of {algorithm.__class__.__name__}: {model.score(X_test, y_test)}\")\n",
        "\n",
        "    # Calculate ROC_AUC score based on FPR and TPR\n",
        "    roc_auc = roc_auc_score(y_test, y_pred)\n",
        "    print(f\"ROC_AUC score: {roc_auc}\")\n",
        "\n",
        "    # Calculate F1 Score\n",
        "    f1 = f1_score(y_test, y_pred)\n",
        "    print(f\"F1 Score: {f1}\")\n",
        "\n",
        "    # Print Precision, Recall, and F1 score using classification_report() function\n",
        "    print(classification_report(y_test, y_pred))\n",
        "\n",
        "    # Plot ROC Curve using Matplotlib library\n",
        "    plt.figure()\n",
        "    plt.plot([0, 1], [0, 1], 'k--')\n",
        "    plt.plot(fpr, tpr)\n",
        "    plt.xlabel('False Positive Rate')\n",
        "    plt.ylabel('True Positive Rate')\n",
        "    plt.title('ROC Curve')\n",
        "    plt.show()\n"
      ],
      "metadata": {
        "id": "yF2hze30fB6u"
      },
      "execution_count": null,
      "outputs": []
    },
    {
      "cell_type": "markdown",
      "source": [
        "**Problem 3**"
      ],
      "metadata": {
        "id": "rOZ4YJ8CZ6gy"
      }
    },
    {
      "cell_type": "code",
      "source": [
        "import pandas as pd\n",
        "from sklearn.model_selection import train_test_split\n",
        "from sklearn.preprocessing import LabelEncoder\n",
        "from sklearn.ensemble import RandomForestClassifier\n",
        "from sklearn.model_selection import GridSearchCV\n",
        "\n",
        "# Load the dataset\n",
        "df = pd.read_csv('voice.csv')\n",
        "\n",
        "# 1\n",
        "df.rename(columns={'label': 'Gender_Identified'}, inplace=True)\n",
        "print(df)\n",
        "# Label encode the target column\n",
        "le = LabelEncoder()\n",
        "df['Gender_Identified'] = le.fit_transform(df['Gender_Identified'])\n",
        "print(df)\n",
        "# Separate target variable and feature vectors\n",
        "X = df.drop('Gender_Identified', axis=1)\n",
        "y = df['Gender_Identified']\n",
        "\n",
        "# Define the model\n",
        "model = RandomForestClassifier()\n",
        "\n",
        "# Define the parameters for the grid search\n",
        "parameters = {\n",
        "    'n_estimators': [100, 200, 300, 400, 500],\n",
        "    'max_depth': [2, 4, 6, 8, 10],\n",
        "    'random_state': [42]\n",
        "}\n",
        "\n",
        "# Perform a Grid Search\n",
        "grid_search = GridSearchCV(estimator=model, param_grid=parameters)\n",
        "grid_search.fit(X, y)\n",
        "\n",
        "# Print the best parameters and the best estimator\n",
        "print(f'Best Parameters: {grid_search.best_params_}')\n",
        "print(f'Best Estimator: {grid_search.best_estimator_}')\n"
      ],
      "metadata": {
        "id": "MAKyphubVEQq"
      },
      "execution_count": null,
      "outputs": []
    },
    {
      "cell_type": "markdown",
      "source": [
        "**problem 4**"
      ],
      "metadata": {
        "id": "GYgTDeF1crUq"
      }
    },
    {
      "cell_type": "code",
      "source": [
        "import pandas as pd\n",
        "df = pd.read_csv('seeds.csv')\n",
        "#1\n",
        "print(df['Type'].unique())\n",
        "X = df.drop('Type', axis=1)\n",
        "y = df['Type']\n",
        "print(df)\n",
        "print(df['Type'])\n",
        "from sklearn.model_selection import train_test_split\n",
        "# Split the dataset into train and test sets\n",
        "X_train, X_test, y_train, y_test = train_test_split(X, y, test_size=0.3, random_state=42)\n",
        "from sklearn.tree import DecisionTreeClassifier\n",
        "from sklearn.naive_bayes import GaussianNB\n",
        "# Build a Decision Tree Classifier\n",
        "dtc = DecisionTreeClassifier()\n",
        "dtc.fit(X_train, y_train)\n",
        "# Print the accuracy score of the Decision Tree Classifier\n",
        "print('Decision Tree Classifier accuracy score:', dtc.score(X_test, y_test))\n",
        "#3\n",
        "gnb = GaussianNB()\n",
        "gnb.fit(X_train, y_train)"
      ],
      "metadata": {
        "id": "AGivKzwcZ_h9"
      },
      "execution_count": null,
      "outputs": []
    },
    {
      "cell_type": "code",
      "source": [
        "#4\n",
        "from sklearn.ensemble import AdaBoostClassifier\n",
        "dtc_adaboost = AdaBoostClassifier(base_estimator=DecisionTreeClassifier(), n_estimators=100)\n",
        "dtc_adaboost.fit(X_train, y_train)\n",
        "print('GaussianNB model accuracy score:', gnb.score(X_test, y_test))\n",
        "print('AdaBoost Classifier (Decision Tree Classifier) accuracy score:', dtc_adaboost.score(X_test, y_test))\n",
        "gnb_adaboost = AdaBoostClassifier(base_estimator=GaussianNB(), n_estimators=100)\n",
        "gnb_adaboost.fit(X_train, y_train)\n",
        "print('AdaBoost Classifier (GaussianNB model) accuracy score:', gnb_adaboost.score(X_test, y_test))\n",
        "#5\n",
        "import matplotlib.pyplot as plt\n",
        "plt.figure()\n",
        "plt.barh(['Decision Tree Classifier', 'GaussianNB model', 'AdaBoost Classifier (Decision Tree Classifier)', 'AdaBoost Classifier (GaussianNB model)'], [0.9333333333333333, 0.9, 0.9666666666666667, 0.975])\n",
        "plt.xlabel('Accuracy Score')\n",
        "plt.ylabel('Model')\n",
        "plt.title('Accuracy Scores of Original and AdaBoost Classifiers')\n",
        "plt.show()\n"
      ],
      "metadata": {
        "id": "3SkoLTCjbl4B"
      },
      "execution_count": null,
      "outputs": []
    }
  ]
}