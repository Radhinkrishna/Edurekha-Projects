{
  "nbformat": 4,
  "nbformat_minor": 0,
  "metadata": {
    "colab": {
      "provenance": []
    },
    "kernelspec": {
      "name": "python3",
      "display_name": "Python 3"
    },
    "language_info": {
      "name": "python"
    },
    "widgets": {
      "application/vnd.jupyter.widget-state+json": {
        "284494b249ad4ac28ea73b8992a8944c": {
          "model_module": "@jupyter-widgets/controls",
          "model_name": "TextModel",
          "model_module_version": "1.5.0",
          "state": {
            "_dom_classes": [],
            "_model_module": "@jupyter-widgets/controls",
            "_model_module_version": "1.5.0",
            "_model_name": "TextModel",
            "_view_count": null,
            "_view_module": "@jupyter-widgets/controls",
            "_view_module_version": "1.5.0",
            "_view_name": "TextView",
            "continuous_update": true,
            "description": "Genre:",
            "description_tooltip": null,
            "disabled": false,
            "layout": "IPY_MODEL_e233112239a848f083b34bef957a595b",
            "placeholder": "​",
            "style": "IPY_MODEL_71552b04665d48f1b5dd3304e96fa6fc",
            "value": "Comedy"
          }
        },
        "e233112239a848f083b34bef957a595b": {
          "model_module": "@jupyter-widgets/base",
          "model_name": "LayoutModel",
          "model_module_version": "1.2.0",
          "state": {
            "_model_module": "@jupyter-widgets/base",
            "_model_module_version": "1.2.0",
            "_model_name": "LayoutModel",
            "_view_count": null,
            "_view_module": "@jupyter-widgets/base",
            "_view_module_version": "1.2.0",
            "_view_name": "LayoutView",
            "align_content": null,
            "align_items": null,
            "align_self": null,
            "border": null,
            "bottom": null,
            "display": null,
            "flex": null,
            "flex_flow": null,
            "grid_area": null,
            "grid_auto_columns": null,
            "grid_auto_flow": null,
            "grid_auto_rows": null,
            "grid_column": null,
            "grid_gap": null,
            "grid_row": null,
            "grid_template_areas": null,
            "grid_template_columns": null,
            "grid_template_rows": null,
            "height": null,
            "justify_content": null,
            "justify_items": null,
            "left": null,
            "margin": null,
            "max_height": null,
            "max_width": null,
            "min_height": null,
            "min_width": null,
            "object_fit": null,
            "object_position": null,
            "order": null,
            "overflow": null,
            "overflow_x": null,
            "overflow_y": null,
            "padding": null,
            "right": null,
            "top": null,
            "visibility": null,
            "width": null
          }
        },
        "71552b04665d48f1b5dd3304e96fa6fc": {
          "model_module": "@jupyter-widgets/controls",
          "model_name": "DescriptionStyleModel",
          "model_module_version": "1.5.0",
          "state": {
            "_model_module": "@jupyter-widgets/controls",
            "_model_module_version": "1.5.0",
            "_model_name": "DescriptionStyleModel",
            "_view_count": null,
            "_view_module": "@jupyter-widgets/base",
            "_view_module_version": "1.2.0",
            "_view_name": "StyleView",
            "description_width": ""
          }
        },
        "d739b811eed446a1ad5c486aa696e0bd": {
          "model_module": "@jupyter-widgets/controls",
          "model_name": "IntSliderModel",
          "model_module_version": "1.5.0",
          "state": {
            "_dom_classes": [],
            "_model_module": "@jupyter-widgets/controls",
            "_model_module_version": "1.5.0",
            "_model_name": "IntSliderModel",
            "_view_count": null,
            "_view_module": "@jupyter-widgets/controls",
            "_view_module_version": "1.5.0",
            "_view_name": "IntSliderView",
            "continuous_update": true,
            "description": "Minimum Reviews Threshold:",
            "description_tooltip": null,
            "disabled": false,
            "layout": "IPY_MODEL_ec76f6327a754cd6b8ab57d442af40d4",
            "max": 1000,
            "min": 0,
            "orientation": "horizontal",
            "readout": true,
            "readout_format": "d",
            "step": 10,
            "style": "IPY_MODEL_e8f10152972a49c088c0d5bfd29fe6e6",
            "value": 100
          }
        },
        "ec76f6327a754cd6b8ab57d442af40d4": {
          "model_module": "@jupyter-widgets/base",
          "model_name": "LayoutModel",
          "model_module_version": "1.2.0",
          "state": {
            "_model_module": "@jupyter-widgets/base",
            "_model_module_version": "1.2.0",
            "_model_name": "LayoutModel",
            "_view_count": null,
            "_view_module": "@jupyter-widgets/base",
            "_view_module_version": "1.2.0",
            "_view_name": "LayoutView",
            "align_content": null,
            "align_items": null,
            "align_self": null,
            "border": null,
            "bottom": null,
            "display": null,
            "flex": null,
            "flex_flow": null,
            "grid_area": null,
            "grid_auto_columns": null,
            "grid_auto_flow": null,
            "grid_auto_rows": null,
            "grid_column": null,
            "grid_gap": null,
            "grid_row": null,
            "grid_template_areas": null,
            "grid_template_columns": null,
            "grid_template_rows": null,
            "height": null,
            "justify_content": null,
            "justify_items": null,
            "left": null,
            "margin": null,
            "max_height": null,
            "max_width": null,
            "min_height": null,
            "min_width": null,
            "object_fit": null,
            "object_position": null,
            "order": null,
            "overflow": null,
            "overflow_x": null,
            "overflow_y": null,
            "padding": null,
            "right": null,
            "top": null,
            "visibility": null,
            "width": null
          }
        },
        "e8f10152972a49c088c0d5bfd29fe6e6": {
          "model_module": "@jupyter-widgets/controls",
          "model_name": "SliderStyleModel",
          "model_module_version": "1.5.0",
          "state": {
            "_model_module": "@jupyter-widgets/controls",
            "_model_module_version": "1.5.0",
            "_model_name": "SliderStyleModel",
            "_view_count": null,
            "_view_module": "@jupyter-widgets/base",
            "_view_module_version": "1.2.0",
            "_view_name": "StyleView",
            "description_width": "",
            "handle_color": null
          }
        },
        "7d6ed39e084c48a990c0209839dd3e38": {
          "model_module": "@jupyter-widgets/controls",
          "model_name": "IntSliderModel",
          "model_module_version": "1.5.0",
          "state": {
            "_dom_classes": [],
            "_model_module": "@jupyter-widgets/controls",
            "_model_module_version": "1.5.0",
            "_model_name": "IntSliderModel",
            "_view_count": null,
            "_view_module": "@jupyter-widgets/controls",
            "_view_module_version": "1.5.0",
            "_view_name": "IntSliderView",
            "continuous_update": true,
            "description": "Num Recommendations:",
            "description_tooltip": null,
            "disabled": false,
            "layout": "IPY_MODEL_1d98df9aa67a4bf7a619bd82a5e673fc",
            "max": 10,
            "min": 1,
            "orientation": "horizontal",
            "readout": true,
            "readout_format": "d",
            "step": 1,
            "style": "IPY_MODEL_cfd86e998c9f47c980b51819b511da61",
            "value": 5
          }
        },
        "1d98df9aa67a4bf7a619bd82a5e673fc": {
          "model_module": "@jupyter-widgets/base",
          "model_name": "LayoutModel",
          "model_module_version": "1.2.0",
          "state": {
            "_model_module": "@jupyter-widgets/base",
            "_model_module_version": "1.2.0",
            "_model_name": "LayoutModel",
            "_view_count": null,
            "_view_module": "@jupyter-widgets/base",
            "_view_module_version": "1.2.0",
            "_view_name": "LayoutView",
            "align_content": null,
            "align_items": null,
            "align_self": null,
            "border": null,
            "bottom": null,
            "display": null,
            "flex": null,
            "flex_flow": null,
            "grid_area": null,
            "grid_auto_columns": null,
            "grid_auto_flow": null,
            "grid_auto_rows": null,
            "grid_column": null,
            "grid_gap": null,
            "grid_row": null,
            "grid_template_areas": null,
            "grid_template_columns": null,
            "grid_template_rows": null,
            "height": null,
            "justify_content": null,
            "justify_items": null,
            "left": null,
            "margin": null,
            "max_height": null,
            "max_width": null,
            "min_height": null,
            "min_width": null,
            "object_fit": null,
            "object_position": null,
            "order": null,
            "overflow": null,
            "overflow_x": null,
            "overflow_y": null,
            "padding": null,
            "right": null,
            "top": null,
            "visibility": null,
            "width": null
          }
        },
        "cfd86e998c9f47c980b51819b511da61": {
          "model_module": "@jupyter-widgets/controls",
          "model_name": "SliderStyleModel",
          "model_module_version": "1.5.0",
          "state": {
            "_model_module": "@jupyter-widgets/controls",
            "_model_module_version": "1.5.0",
            "_model_name": "SliderStyleModel",
            "_view_count": null,
            "_view_module": "@jupyter-widgets/base",
            "_view_module_version": "1.2.0",
            "_view_name": "StyleView",
            "description_width": "",
            "handle_color": null
          }
        },
        "2b00ebac2e87479195c08e598294b21b": {
          "model_module": "@jupyter-widgets/controls",
          "model_name": "ButtonModel",
          "model_module_version": "1.5.0",
          "state": {
            "_dom_classes": [],
            "_model_module": "@jupyter-widgets/controls",
            "_model_module_version": "1.5.0",
            "_model_name": "ButtonModel",
            "_view_count": null,
            "_view_module": "@jupyter-widgets/controls",
            "_view_module_version": "1.5.0",
            "_view_name": "ButtonView",
            "button_style": "",
            "description": "Get Recommendations",
            "disabled": false,
            "icon": "",
            "layout": "IPY_MODEL_8ed43fc750e44f30a7946e6b15326943",
            "style": "IPY_MODEL_2ad1efe6b8884d9d8748d55d4ba2426e",
            "tooltip": ""
          }
        },
        "8ed43fc750e44f30a7946e6b15326943": {
          "model_module": "@jupyter-widgets/base",
          "model_name": "LayoutModel",
          "model_module_version": "1.2.0",
          "state": {
            "_model_module": "@jupyter-widgets/base",
            "_model_module_version": "1.2.0",
            "_model_name": "LayoutModel",
            "_view_count": null,
            "_view_module": "@jupyter-widgets/base",
            "_view_module_version": "1.2.0",
            "_view_name": "LayoutView",
            "align_content": null,
            "align_items": null,
            "align_self": null,
            "border": null,
            "bottom": null,
            "display": null,
            "flex": null,
            "flex_flow": null,
            "grid_area": null,
            "grid_auto_columns": null,
            "grid_auto_flow": null,
            "grid_auto_rows": null,
            "grid_column": null,
            "grid_gap": null,
            "grid_row": null,
            "grid_template_areas": null,
            "grid_template_columns": null,
            "grid_template_rows": null,
            "height": null,
            "justify_content": null,
            "justify_items": null,
            "left": null,
            "margin": null,
            "max_height": null,
            "max_width": null,
            "min_height": null,
            "min_width": null,
            "object_fit": null,
            "object_position": null,
            "order": null,
            "overflow": null,
            "overflow_x": null,
            "overflow_y": null,
            "padding": null,
            "right": null,
            "top": null,
            "visibility": null,
            "width": null
          }
        },
        "2ad1efe6b8884d9d8748d55d4ba2426e": {
          "model_module": "@jupyter-widgets/controls",
          "model_name": "ButtonStyleModel",
          "model_module_version": "1.5.0",
          "state": {
            "_model_module": "@jupyter-widgets/controls",
            "_model_module_version": "1.5.0",
            "_model_name": "ButtonStyleModel",
            "_view_count": null,
            "_view_module": "@jupyter-widgets/base",
            "_view_module_version": "1.2.0",
            "_view_name": "StyleView",
            "button_color": null,
            "font_weight": ""
          }
        },
        "7b88fd1524c54449b68a2891400dc171": {
          "model_module": "@jupyter-widgets/output",
          "model_name": "OutputModel",
          "model_module_version": "1.0.0",
          "state": {
            "_dom_classes": [],
            "_model_module": "@jupyter-widgets/output",
            "_model_module_version": "1.0.0",
            "_model_name": "OutputModel",
            "_view_count": null,
            "_view_module": "@jupyter-widgets/output",
            "_view_module_version": "1.0.0",
            "_view_name": "OutputView",
            "layout": "IPY_MODEL_e5911b13e89a4605a33982cf3c83ffcf",
            "msg_id": "",
            "outputs": []
          }
        },
        "e5911b13e89a4605a33982cf3c83ffcf": {
          "model_module": "@jupyter-widgets/base",
          "model_name": "LayoutModel",
          "model_module_version": "1.2.0",
          "state": {
            "_model_module": "@jupyter-widgets/base",
            "_model_module_version": "1.2.0",
            "_model_name": "LayoutModel",
            "_view_count": null,
            "_view_module": "@jupyter-widgets/base",
            "_view_module_version": "1.2.0",
            "_view_name": "LayoutView",
            "align_content": null,
            "align_items": null,
            "align_self": null,
            "border": null,
            "bottom": null,
            "display": null,
            "flex": null,
            "flex_flow": null,
            "grid_area": null,
            "grid_auto_columns": null,
            "grid_auto_flow": null,
            "grid_auto_rows": null,
            "grid_column": null,
            "grid_gap": null,
            "grid_row": null,
            "grid_template_areas": null,
            "grid_template_columns": null,
            "grid_template_rows": null,
            "height": null,
            "justify_content": null,
            "justify_items": null,
            "left": null,
            "margin": null,
            "max_height": null,
            "max_width": null,
            "min_height": null,
            "min_width": null,
            "object_fit": null,
            "object_position": null,
            "order": null,
            "overflow": null,
            "overflow_x": null,
            "overflow_y": null,
            "padding": null,
            "right": null,
            "top": null,
            "visibility": null,
            "width": null
          }
        }
      }
    }
  },
  "cells": [
    {
      "cell_type": "markdown",
      "source": [
        "Objective 1"
      ],
      "metadata": {
        "id": "sAa8tm5yOM76"
      }
    },
    {
      "cell_type": "code",
      "execution_count": null,
      "metadata": {
        "id": "KATQt3dsNSd6"
      },
      "outputs": [],
      "source": [
        "import pandas as pd\n",
        "\n",
        "movies_df = pd.read_csv('movies.csv')\n",
        "ratings_df = pd.read_csv('ratings.csv')\n",
        "\n",
        "movie_ratings_df = pd.merge(movies_df, ratings_df, on='movieId')\n",
        "\n",
        "# Calculate the average rating for each movie\n",
        "movie_ratings_df = movie_ratings_df.groupby(['movieId', 'title', 'genres'], as_index=False)['rating'].mean()\n",
        "\n",
        "# Calculate the number of reviews for each movie\n",
        "movie_ratings_df['num_reviews'] = movie_ratings_df.groupby(['movieId'])['rating'].transform('count')\n",
        "\n",
        "# Filter movies by genre and minimum number of reviews\n",
        "genre = 'Comedy'\n",
        "min_reviews = 100\n",
        "genre_movies_df = movie_ratings_df[(movie_ratings_df['genres'].str.contains(genre)) & (movie_ratings_df['num_reviews'] >= min_reviews)]\n",
        "\n",
        "# Sort movies by average rating in descending order\n",
        "genre_movies_df = genre_movies_df.sort_values(by=['rating'], ascending=False)\n",
        "\n",
        "# Select top N movies\n",
        "N = 5\n",
        "top_N_movies = genre_movies_df.head(N)\n",
        "\n",
        "# Display the results\n",
        "print(top_N_movies[['title', 'rating', 'num_reviews']])\n"
      ]
    },
    {
      "cell_type": "markdown",
      "source": [
        "Objective 2"
      ],
      "metadata": {
        "id": "j3LcHDvJP-Li"
      }
    },
    {
      "cell_type": "code",
      "source": [
        "import pandas as pd\n",
        "from sklearn.feature_extraction.text import TfidfVectorizer\n",
        "from sklearn.metrics.pairwise import cosine_similarity\n",
        "movies_df = pd.read_csv('movies.csv')\n",
        "tfidf = TfidfVectorizer(stop_words='english')\n",
        "\n",
        "# Replace NaN values with an empty string\n",
        "movies_df['genres'] = movies_df['genres'].fillna('')\n",
        "# Construct the TF-IDF matrix by fitting and transforming the data\n",
        "tfidf_matrix = tfidf.fit_transform(movies_df['genres'])\n",
        "# Compute the cosine similarity matrix\n",
        "cosine_sim = cosine_similarity(tfidf_matrix, tfidf_matrix)\n",
        "# Define a function to get movie recommendations based on similar genres\n",
        "def get_recommendations(title, N):\n",
        "    # Get the index of the movie that matches the title\n",
        "    idx = movies_df[movies_df['title'] == title].index[0]\n",
        "\n",
        "    # Get the pairwise similarity scores of all movies with that movie\n",
        "    sim_scores = list(enumerate(cosine_sim[idx]))\n",
        "\n",
        "    # Sort the movies based on the similarity scores in descending order\n",
        "    sim_scores = sorted(sim_scores, key=lambda x: x[1], reverse=True)\n",
        "\n",
        "    # Get the top N most similar movies (excluding itself)\n",
        "    sim_scores = sim_scores[1:N+1]\n",
        "\n",
        "    # Get the movie indices\n",
        "    movie_indices = [i[0] for i in sim_scores]\n",
        "\n",
        "    # Return the top N most similar movies\n",
        "    return movies_df.iloc[movie_indices][['title', 'genres']]\n",
        "# Example usage:\n",
        "title = 'Toy Story (1995)'\n",
        "N = 5\n",
        "print(get_recommendations(title, N))\n"
      ],
      "metadata": {
        "colab": {
          "base_uri": "https://localhost:8080/"
        },
        "id": "Kak9Bw5pP-1S",
        "outputId": "fb8c8f59-5285-4350-de31-714353318645"
      },
      "execution_count": null,
      "outputs": [
        {
          "output_type": "stream",
          "name": "stdout",
          "text": [
            "                                               title  \\\n",
            "1815                                     Antz (1998)   \n",
            "2496                              Toy Story 2 (1999)   \n",
            "2967  Adventures of Rocky and Bullwinkle, The (2000)   \n",
            "3166                Emperor's New Groove, The (2000)   \n",
            "3811                           Monsters, Inc. (2001)   \n",
            "\n",
            "                                           genres  \n",
            "1815  Adventure|Animation|Children|Comedy|Fantasy  \n",
            "2496  Adventure|Animation|Children|Comedy|Fantasy  \n",
            "2967  Adventure|Animation|Children|Comedy|Fantasy  \n",
            "3166  Adventure|Animation|Children|Comedy|Fantasy  \n",
            "3811  Adventure|Animation|Children|Comedy|Fantasy  \n"
          ]
        }
      ]
    },
    {
      "cell_type": "markdown",
      "source": [
        "Objective 3"
      ],
      "metadata": {
        "id": "a1lqfTvQTtbg"
      }
    },
    {
      "cell_type": "markdown",
      "source": [],
      "metadata": {
        "id": "BC5JEQg4TtY2"
      }
    },
    {
      "cell_type": "code",
      "source": [
        "pip install surprise\n"
      ],
      "metadata": {
        "colab": {
          "base_uri": "https://localhost:8080/"
        },
        "id": "ZyipHOFrSubs",
        "outputId": "7bd02966-337a-4559-e771-bb81faaba1a2"
      },
      "execution_count": null,
      "outputs": [
        {
          "output_type": "stream",
          "name": "stdout",
          "text": [
            "Collecting surprise\n",
            "  Downloading surprise-0.1-py2.py3-none-any.whl (1.8 kB)\n",
            "Collecting scikit-surprise (from surprise)\n",
            "  Downloading scikit-surprise-1.1.3.tar.gz (771 kB)\n",
            "\u001b[2K     \u001b[90m━━━━━━━━━━━━━━━━━━━━━━━━━━━━━━━━━━━━━━━━\u001b[0m \u001b[32m772.0/772.0 kB\u001b[0m \u001b[31m7.1 MB/s\u001b[0m eta \u001b[36m0:00:00\u001b[0m\n",
            "\u001b[?25h  Preparing metadata (setup.py) ... \u001b[?25l\u001b[?25hdone\n",
            "Requirement already satisfied: joblib>=1.0.0 in /usr/local/lib/python3.10/dist-packages (from scikit-surprise->surprise) (1.3.2)\n",
            "Requirement already satisfied: numpy>=1.17.3 in /usr/local/lib/python3.10/dist-packages (from scikit-surprise->surprise) (1.23.5)\n",
            "Requirement already satisfied: scipy>=1.3.2 in /usr/local/lib/python3.10/dist-packages (from scikit-surprise->surprise) (1.11.3)\n",
            "Building wheels for collected packages: scikit-surprise\n",
            "  Building wheel for scikit-surprise (setup.py) ... \u001b[?25l\u001b[?25hdone\n",
            "  Created wheel for scikit-surprise: filename=scikit_surprise-1.1.3-cp310-cp310-linux_x86_64.whl size=3163327 sha256=77e81e07e1a4128e87848b7fdeb85c497aed3077fcccdcc507f8ca52c213c9b5\n",
            "  Stored in directory: /root/.cache/pip/wheels/a5/ca/a8/4e28def53797fdc4363ca4af740db15a9c2f1595ebc51fb445\n",
            "Successfully built scikit-surprise\n",
            "Installing collected packages: scikit-surprise, surprise\n",
            "Successfully installed scikit-surprise-1.1.3 surprise-0.1\n"
          ]
        }
      ]
    },
    {
      "cell_type": "code",
      "source": [
        "import pandas as pd\n",
        "from surprise import Reader, Dataset, KNNBasic\n",
        "from surprise.model_selection import train_test_split\n",
        "\n",
        "# Load the dataset\n",
        "ratings_df = pd.read_csv('ratings.csv')\n",
        "\n",
        "# Define the reader object\n",
        "reader = Reader(rating_scale=(0.5, 5.0))\n",
        "\n",
        "# Load the dataset into the Surprise format\n",
        "data = Dataset.load_from_df(ratings_df[['userId', 'movieId', 'rating']], reader)\n",
        "\n",
        "# Split the data into training and testing sets\n",
        "trainset, testset = train_test_split(data, test_size=0.2)\n",
        "\n",
        "# Define the KNN model\n",
        "sim_options = {'name': 'cosine', 'user_based': True}\n",
        "model = KNNBasic(k=100, sim_options=sim_options)\n",
        "\n",
        "# Train the model on the training set\n",
        "model.fit(trainset)\n",
        "\n",
        "# Define a function to get movie recommendations for a target user based on similar users\n",
        "def get_recommendations(user_id, N):\n",
        "    # Get the list of similar users based on the target user\n",
        "    similar_users = model.get_neighbors(user_id, k=model.k)\n",
        "\n",
        "    # Get the list of movies rated by similar users but not by the target user\n",
        "    similar_ratings = ratings_df[(ratings_df['userId'].isin(similar_users)) & (~ratings_df['movieId'].isin(ratings_df[ratings_df['userId'] == user_id]['movieId']))]\n",
        "\n",
        "    # Calculate the average rating for each movie\n",
        "    movie_ratings = similar_ratings.groupby(['movieId'], as_index=False)['rating'].mean()\n",
        "\n",
        "    # Sort movies by average rating in descending order\n",
        "    movie_ratings = movie_ratings.sort_values(by=['rating'], ascending=False)\n",
        "\n",
        "    # Select top N movies\n",
        "    top_N_movies = movie_ratings.head(N)\n",
        "\n",
        "    # Merge with movies dataframe to get movie titles and genres\n",
        "    top_N_movies = pd.merge(top_N_movies, movies_df[['movieId', 'title', 'genres']], on='movieId')\n",
        "\n",
        "    # Display the results\n",
        "    return top_N_movies[['title']]\n",
        "\n",
        "# Example usage:\n",
        "user_id = 1\n",
        "N = 5\n",
        "\n",
        "print(get_recommendations(user_id, N))\n"
      ],
      "metadata": {
        "colab": {
          "base_uri": "https://localhost:8080/"
        },
        "id": "znl8Bs_uSY8M",
        "outputId": "4a4dc411-7524-4e55-a22c-fa5bf1025c70"
      },
      "execution_count": null,
      "outputs": [
        {
          "output_type": "stream",
          "name": "stdout",
          "text": [
            "Computing the cosine similarity matrix...\n",
            "Done computing similarity matrix.\n",
            "                                               title\n",
            "0                               Iron Eagle II (1988)\n",
            "1  Sympathy for Mr. Vengeance (Boksuneun naui geo...\n",
            "2                               Interstate 60 (2002)\n",
            "3                         Crank: High Voltage (2009)\n",
            "4  Fast & Furious (Fast and the Furious 4, The) (...\n"
          ]
        }
      ]
    },
    {
      "cell_type": "markdown",
      "source": [
        "Interface"
      ],
      "metadata": {
        "id": "O5XlusJoTwU7"
      }
    },
    {
      "cell_type": "code",
      "source": [
        "import ipywidgets as widgets\n",
        "from IPython.display import display\n",
        "\n",
        "# Define the input widgets\n",
        "genre = widgets.Text(description='Genre:', value='Comedy')\n",
        "threshold = widgets.IntSlider(description='Minimum Reviews Threshold:', min=0, max=1000, step=10, value=100)\n",
        "num_recommendations = widgets.IntSlider(description='Num Recommendations:', min=1, max=10, step=1, value=5)\n",
        "\n",
        "# Define the output widget\n",
        "output = widgets.Output()\n",
        "\n",
        "# Define the function to handle button click events\n",
        "def on_button_click(b):\n",
        "    with output:\n",
        "        # Call the recommendation function here and display the results\n",
        "        print('Recommendations for Genre:', genre.value)\n",
        "        print('Minimum Reviews Threshold:', threshold.value)\n",
        "        print('Num Recommendations:', num_recommendations.value)\n",
        "        # Replace this with your recommendation function call\n",
        "\n",
        "# Define the button widget and attach the click event handler\n",
        "button = widgets.Button(description='Get Recommendations')\n",
        "button.on_click(on_button_click)\n",
        "\n",
        "# Display the widgets\n",
        "display(genre)\n",
        "display(threshold)\n",
        "display(num_recommendations)\n",
        "display(button)\n",
        "display(output)\n"
      ],
      "metadata": {
        "colab": {
          "base_uri": "https://localhost:8080/",
          "height": 141,
          "referenced_widgets": [
            "284494b249ad4ac28ea73b8992a8944c",
            "e233112239a848f083b34bef957a595b",
            "71552b04665d48f1b5dd3304e96fa6fc",
            "d739b811eed446a1ad5c486aa696e0bd",
            "ec76f6327a754cd6b8ab57d442af40d4",
            "e8f10152972a49c088c0d5bfd29fe6e6",
            "7d6ed39e084c48a990c0209839dd3e38",
            "1d98df9aa67a4bf7a619bd82a5e673fc",
            "cfd86e998c9f47c980b51819b511da61",
            "2b00ebac2e87479195c08e598294b21b",
            "8ed43fc750e44f30a7946e6b15326943",
            "2ad1efe6b8884d9d8748d55d4ba2426e",
            "7b88fd1524c54449b68a2891400dc171",
            "e5911b13e89a4605a33982cf3c83ffcf"
          ]
        },
        "id": "5FekhcC3ThxS",
        "outputId": "06dda57d-6f5e-4586-cb12-6c3b731f0bc3"
      },
      "execution_count": null,
      "outputs": [
        {
          "output_type": "display_data",
          "data": {
            "text/plain": [
              "Text(value='Comedy', description='Genre:')"
            ],
            "application/vnd.jupyter.widget-view+json": {
              "version_major": 2,
              "version_minor": 0,
              "model_id": "284494b249ad4ac28ea73b8992a8944c"
            }
          },
          "metadata": {}
        },
        {
          "output_type": "display_data",
          "data": {
            "text/plain": [
              "IntSlider(value=100, description='Minimum Reviews Threshold:', max=1000, step=10)"
            ],
            "application/vnd.jupyter.widget-view+json": {
              "version_major": 2,
              "version_minor": 0,
              "model_id": "d739b811eed446a1ad5c486aa696e0bd"
            }
          },
          "metadata": {}
        },
        {
          "output_type": "display_data",
          "data": {
            "text/plain": [
              "IntSlider(value=5, description='Num Recommendations:', max=10, min=1)"
            ],
            "application/vnd.jupyter.widget-view+json": {
              "version_major": 2,
              "version_minor": 0,
              "model_id": "7d6ed39e084c48a990c0209839dd3e38"
            }
          },
          "metadata": {}
        },
        {
          "output_type": "display_data",
          "data": {
            "text/plain": [
              "Button(description='Get Recommendations', style=ButtonStyle())"
            ],
            "application/vnd.jupyter.widget-view+json": {
              "version_major": 2,
              "version_minor": 0,
              "model_id": "2b00ebac2e87479195c08e598294b21b"
            }
          },
          "metadata": {}
        },
        {
          "output_type": "display_data",
          "data": {
            "text/plain": [
              "Output()"
            ],
            "application/vnd.jupyter.widget-view+json": {
              "version_major": 2,
              "version_minor": 0,
              "model_id": "7b88fd1524c54449b68a2891400dc171"
            }
          },
          "metadata": {}
        }
      ]
    }
  ]
}